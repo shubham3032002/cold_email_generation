{
 "cells": [
  {
   "cell_type": "code",
   "execution_count": 8,
   "metadata": {},
   "outputs": [
    {
     "name": "stdout",
     "output_type": "stream",
     "text": [
      "The first person to land on the moon was Neil Armstrong. He stepped out of the lunar module Eagle and onto the moon's surface on July 20, 1969, as part of the Apollo 11 mission. Armstrong famously declared, \"That's one small step for man, one giant leap for mankind,\" as he became the first human to set foot on the moon.\n"
     ]
    }
   ],
   "source": [
    "\n",
    "from langchain_groq import ChatGroq\n",
    "from dotenv import load_dotenv\n",
    "import os\n",
    "\n",
    "# Load environment variables\n",
    "load_dotenv()\n",
    "\n",
    "# Retrieve the API key\n",
    "GROQ_API = os.getenv('GROQCLOUD_API_KEY')\n",
    "\n",
    "if not GROQ_API:\n",
    "    raise ValueError(\"GROQCLOUD_API_KEY is not set. Please check your .env file.\")\n",
    "\n",
    "# Initialize the ChatGroq object\n",
    "llm = ChatGroq(\n",
    "    api_key=GROQ_API,\n",
    "    temperature=0,\n",
    "    model_name='llama-3.1-70b-versatile'\n",
    ")\n",
    "\n",
    "# Use the model to generate a response\n",
    "response = llm.invoke('The first person to land on the moon was ...')\n",
    "print(response.content)\n"
   ]
  },
  {
   "cell_type": "code",
   "execution_count": 16,
   "metadata": {},
   "outputs": [
    {
     "name": "stdout",
     "output_type": "stream",
     "text": [
      "Apply for Director, Retail Marketing, South\n",
      "\n",
      "Search JobsSkip navigationSearch JobsNIKE, INC. JOBSContract JobsJoin The Talent CommunityLife @ NikeOverviewBenefitsBrandsOverviewJordanConverseTeamsOverviewAdministrative SupportAdvanced InnovationAir Manufacturing InnovationAviationCommunicationsCustomer ServiceDesignDigitalFacilitiesFinance & AccountingGovernment & Public AffairsHuman ResourcesInsights & AnalyticsLegalManufacturing & EngineeringMarketingMerchandisingPlanningPrivacyProcurementProduct Creation, Development & ManagementRetail CorporateRetail StoresSalesSocial & Community ImpactSports MarketingStrategic PlanningSupply Chain, Distribution & LogisticsSustainabilityTechnologyLocationsOverviewNike WHQNike New York HQEHQ: Hilversum, The NetherlandsELC: Laakdal, BelgiumGreater China HQDiversity, Equity & InclusionOverviewMilitary InclusionDisability InclusionIndigenous InclusionInternshipsMarketingDirector, Retail Marketing, SouthBarcelona, SpainBecome a Part of the NIKE, Inc. TeamNIKE, Inc. does more than outfit the world’s best athletes. It is a place to explore potential, obliterate boundaries and push out the edges of what can be. The company looks for people who can grow, think, dream and create. Its culture thrives by embracing diversity and rewarding imagination. The brand seeks achievers, leaders and visionaries. At NIKE, Inc. it’s about each person bringing skills and passion to a challenging and constantly evolving game.NIKE, Inc.'s storytellers, Marketing and Communication sets the brand tone. A creative force of specialists tell Nike’s stories of innovation and sport through advertising, brand strategy, digital engagement and product presentation. Using channels ranging from retail stores to social media, Marketing & Communication teams connect the science and art of Nike innovations to the hearts and minds of athletes around the world.Who are we looking for? We are looking for an experienced and talented brand marketeer with a passion for sport, a curiosity for youth and a desire to create a culture of creativity, innovation and inspiration.  A seasoned brand marketeer with a wealth of retail experience wanting to create the consumer, sport marketplace of the future.  An experienced manager who will develop talent, based in multiple locations, into the leaders of the future, and a leader who embodies the values of Nike.  An enterprise thinker willing and able to think beyond their own agenda, and to constantly strive for better ways to engage with our consumers through testing, learning & iterating.  An inspiring leader willing to adapt on the fly, while maintaining a positive growth mindset.  What will you work on? As the Director, Retail Marketing, South, you will be part of the South marketing leadership team and lead the Retail Marketing function within the countries of Italy, Spain, Portugal & Greece. This role will be responsible for leading a diverse and talented team focused on connecting with consumers in the South retail marketplace, with a focus on Barcelona & Milan but extending across the countries and into additional priority cities, inclusive of Nike Direct stores & our Wholesale partners.  Core duties will be as follows: Supporting our priority doors across the countries in partnership with the EMEA Retail Marketing teamEnsuring the full Nike Direct stores, NSP & NVS, and partner marketplace is elevated from a visual merchandising & styling (VMS) perspective Ensuring priority marketplace partner sales staff & Nike Direct store staff understand our distinct product innovation and are best positioned to present it to our end consumer Feeding key marketplace insights back into the EMEA Retail Marketing & Consumer Construct teamsBuilding, developing, engaging and empowering a high-performing, diverse team of visual merchants & EKINs Who will you work with?In this role you will work with agility across the full South, Spain & Italy marketing team, and working with cross-functional marketing partners to bring your vision to life for our consumers in the cities and across the countries.  You will work closely with the Nike Direct retail stores & Marketplace functions, at a South and EMEA level, and you will also work closely with the EMEA Retail Marketing & Partner Marketing teams to stay abreast of latest strategies and help share best practices and creation of blueprint playbooks to ensure Nike is always on the front foot of inspirational Retail Experiences.   You will report directly into the Senior Director, Brand Marketing, South, and dotted line report into the Senior Director, Retail Marketing EMEA. Both located in separate locations to this role, based in Barcelona, so a self sufficient mentality and ability essential.You will also work cross-functionally in the Barcelona & Milan offices with key partners such as the South Nike Direct Senior Retail Director and Partner Marketplace Directors to bring together Brand and Business for impact in the marketplace.  You will manage and coach a team of 13 managers and specialists.The shape of your day-to-day work will vary significantly, and therefore your style and influence will have to adapt accordingly. You must be collaborative, intuitive, and maximise the effectiveness of individual as well as collective thinking. You must be open to the opinions and expertise of those you engage with in order to apply coherent strategy and thinking that leads to new opportunities.What you bring to Nike?A successful candidate will be expected to clearly demonstrate and articulate experience of the below essential requirements in order to be considered.  Essential requirements:Extensive experience in Brand marketing, with a strong focus on retail marketing, and passion for brand storytelling excellence within our physical homes for the brand. Prior Nike Direct Marketing experience and operational excellence essential. Team leadership experience experience of people management is essential for this role.A demonstrable understanding of the Italy + Spain consumer, the lead cities and Nike’s position within it, with a track record of making strategic marketing decisions within this environment.Proficiency in English is essential, Italian or Spanish is preferred.Relocation support is available for this opportunity.Closing date for applications : 2nd January 2025.NIKE, Inc. is a growth company that looks for team members to grow with it. Nike offers a generous total rewards package, casual work environment, a diverse and inclusive culture, and an electric atmosphere for professional development. No matter the location, or the role, every Nike employee shares one galvanizing mission: To bring inspiration and innovation to every athlete* in the world.NIKE, Inc. is committed to employing a diverse workforce. Qualified applicants will receive consideration without regard to race, color, religion, sex, national origin, age, sexual orientation, gender identity, gender expression, veteran status, or disability.How We HireAt NIKE, Inc. we promise to provide a premium, inclusive, compelling and authentic candidate experience. Delivering on this promise means we allow you to be at your best — and to do that, you need to understand how the hiring process works. Transparency is key.\n",
      "\n",
      "* This overview explains our hiring process for corporate roles. Note there may be different hiring steps involved for non-corporate roles.Start nowBenefitsWhether it’s transportation or financial health, we continually invest in our employees to help them achieve greatness — inside and outside of work. All who work here should be able to realize their full potential.Employee Assistance ProgramEmployee Stock Purchase Plan (ESPP)HolidaysMedical PlanPaid Time Off (PTO)Product DiscountsSabbaticalsLearn moreFIND A STOREBECOME A MEMBERSIGN UP FOR EMAILSEND US FEEDBACKSTUDENT DISCOUNTSGET HELPGET HELPOrder StatusDeliveryReturnsPayment OptionsContact Us On Nike.com InquiriesContact Us On All Other InquiriesABOUT NIKEABOUT NIKENewsCareersInvestorsSustainabilityIndia© 2024 Nike, Inc. All Rights ReservedGuidesNike AdaptNike Air MaxNike FlyleatherNike PegasusNike Zoom FlyNike AirNike FlyEaseNike FreeNike ReactNike ZoomXNike Air Force 1Nike FlyknitNike JoyrideNike VaporflyTerms of SaleTerms of UseNike Privacy Policy\n"
     ]
    }
   ],
   "source": [
    "from langchain_community.document_loaders import WebBaseLoader\n",
    "\n",
    "# URL of the page to scrape\n",
    "url = 'https://jobs.nike.com/job/R-46373?from=job%20search%20funnel'\n",
    "# Initialize the web loader\n",
    "loader = WebBaseLoader(url)\n",
    "\n",
    "# Load the page content\n",
    "page_data = loader.load().pop().page_content\n",
    "print(page_data)\n"
   ]
  },
  {
   "cell_type": "code",
   "execution_count": 17,
   "metadata": {},
   "outputs": [
    {
     "name": "stdout",
     "output_type": "stream",
     "text": [
      "```json\n",
      "{\n",
      "  \"role\": \"Director, Retail Marketing, South\",\n",
      "  \"experience\": \"Extensive experience in Brand marketing, with a strong focus on retail marketing, and passion for brand storytelling excellence within our physical homes for the brand. Prior Nike Direct Marketing experience and operational excellence essential. Team leadership experience and experience of people management is essential for this role.\",\n",
      "  \"skill\": [\n",
      "    \"Brand marketing\",\n",
      "    \"Retail marketing\",\n",
      "    \"Brand storytelling\",\n",
      "    \"Leadership\",\n",
      "    \"People management\",\n",
      "    \"English proficiency\",\n",
      "    \"Italian or Spanish language skills (preferred)\"\n",
      "  ],\n",
      "  \"description\": \"We are looking for an experienced and talented brand marketeer with a passion for sport, a curiosity for youth and a desire to create a culture of creativity, innovation and inspiration. The Director, Retail Marketing, South will be part of the South marketing leadership team and lead the Retail Marketing function within the countries of Italy, Spain, Portugal & Greece.\"\n",
      "}\n",
      "```\n"
     ]
    }
   ],
   "source": [
    "from langchain_core.prompts import PromptTemplate\n",
    "\n",
    "prompt_extract=PromptTemplate.from_template(\n",
    "    \"\"\"### SCRAPED TEXT FROM WEBSITE:\n",
    "    {page_data}\n",
    "    ### Instruction:\n",
    "    the scraped text is from the career's page of website.\n",
    "    your job is to extract the job posting and return them in JOSN format containing\n",
    "    following keys:`role`,`exprience`,`skill` and `description`.\n",
    "    only return the valid JSON.\n",
    "    ## valid json (no problem)\n",
    "    \"\"\"\n",
    ")\n",
    "\n",
    "chain_extract=prompt_extract | llm\n",
    "res=chain_extract.invoke(input={'page_data':page_data})\n",
    "print(res.content)"
   ]
  },
  {
   "cell_type": "code",
   "execution_count": 18,
   "metadata": {},
   "outputs": [
    {
     "data": {
      "text/plain": [
       "{'role': 'Director, Retail Marketing, South',\n",
       " 'experience': 'Extensive experience in Brand marketing, with a strong focus on retail marketing, and passion for brand storytelling excellence within our physical homes for the brand. Prior Nike Direct Marketing experience and operational excellence essential. Team leadership experience and experience of people management is essential for this role.',\n",
       " 'skill': ['Brand marketing',\n",
       "  'Retail marketing',\n",
       "  'Brand storytelling',\n",
       "  'Leadership',\n",
       "  'People management',\n",
       "  'English proficiency',\n",
       "  'Italian or Spanish language skills (preferred)'],\n",
       " 'description': 'We are looking for an experienced and talented brand marketeer with a passion for sport, a curiosity for youth and a desire to create a culture of creativity, innovation and inspiration. The Director, Retail Marketing, South will be part of the South marketing leadership team and lead the Retail Marketing function within the countries of Italy, Spain, Portugal & Greece.'}"
      ]
     },
     "execution_count": 18,
     "metadata": {},
     "output_type": "execute_result"
    }
   ],
   "source": [
    "from langchain_core.output_parsers import JsonOutputParser\n",
    "\n",
    "json_parser=JsonOutputParser()\n",
    "json_res=json_parser.parse(res.content)\n",
    "json_res"
   ]
  },
  {
   "cell_type": "code",
   "execution_count": 20,
   "metadata": {},
   "outputs": [],
   "source": [
    "import pandas as pd\n"
   ]
  },
  {
   "cell_type": "code",
   "execution_count": 21,
   "metadata": {},
   "outputs": [],
   "source": [
    "df=pd.read_csv(\"../my_portfolio.csv\")"
   ]
  },
  {
   "cell_type": "code",
   "execution_count": 23,
   "metadata": {},
   "outputs": [],
   "source": [
    "import uuid  # Import the uuid module\n",
    "import chromadb\n",
    "\n",
    "client = chromadb.PersistentClient('vectorstore')\n",
    "collection = client.get_or_create_collection(name='portfolio')\n",
    "\n",
    "if not collection.count():\n",
    "    for _, row in df.iterrows():\n",
    "        collection.add(documents=row['Techstack'],\n",
    "                       metadatas={'links': row['Links']},\n",
    "                       ids=[str(uuid.uuid4())])"
   ]
  },
  {
   "cell_type": "code",
   "execution_count": null,
   "metadata": {},
   "outputs": [],
   "source": []
  }
 ],
 "metadata": {
  "kernelspec": {
   "display_name": "env",
   "language": "python",
   "name": "python3"
  },
  "language_info": {
   "codemirror_mode": {
    "name": "ipython",
    "version": 3
   },
   "file_extension": ".py",
   "mimetype": "text/x-python",
   "name": "python",
   "nbconvert_exporter": "python",
   "pygments_lexer": "ipython3",
   "version": "3.10.4"
  }
 },
 "nbformat": 4,
 "nbformat_minor": 2
}
